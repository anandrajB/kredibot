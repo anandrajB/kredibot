{
 "cells": [
  {
   "cell_type": "code",
   "execution_count": null,
   "metadata": {},
   "outputs": [],
   "source": [
    "# don't do this \n",
    "from app import src\n",
    "from typing import List\n",
    "import os \n",
    "\n",
    "# do this instead\n",
    "import os    # standard import \n",
    "from typing import List  #package or library import \n",
    "from app.src import somefunc #app imports\n"
   ]
  }
 ],
 "metadata": {
  "language_info": {
   "name": "python"
  }
 },
 "nbformat": 4,
 "nbformat_minor": 2
}
